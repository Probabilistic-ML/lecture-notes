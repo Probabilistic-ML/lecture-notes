{
 "cells": [
  {
   "cell_type": "markdown",
   "id": "37f42213",
   "metadata": {},
   "source": [
    "# Kernel-based Methods\n",
    "\n",
    "Kerned-based methods denote a class of machine learning algorithms which use a so-called **kernel** or **kernel function** to enable the use of a high-dimensional feature space. The purpose is to generate a more flexible machine learning model. This approach is particularly useful to generalize linear learning methods to non-linear settings. In this case, this approach is also referred to as **kernel trick**.\n",
    "\n",
    "The most common kernel-based methods are support-vector machines (SVM), Gaussian processes (GP), kernel principal component analysis (kernel PCA) and kernel ridge regression. In this chapter, we focus on Gaussian processes which are most usefull for our applications and fit into our probabilistic framework. Nevertheless, the second part of the chapter is dedicated to further kernel-based methods. But first, let us undertand the intuition behind the kernel trick."
   ]
  },
  {
   "cell_type": "code",
   "execution_count": null,
   "id": "4bcb06fb",
   "metadata": {},
   "outputs": [],
   "source": []
  }
 ],
 "metadata": {
  "interpreter": {
   "hash": "97ae724bfa85b9b34df7982b8bb8c7216f435b92902d749e4263f71162bea840"
  },
  "kernelspec": {
   "display_name": "Python 3",
   "language": "python",
   "name": "python3"
  },
  "language_info": {
   "codemirror_mode": {
    "name": "ipython",
    "version": 3
   },
   "file_extension": ".py",
   "mimetype": "text/x-python",
   "name": "python",
   "nbconvert_exporter": "python",
   "pygments_lexer": "ipython3",
   "version": "3.8.8"
  }
 },
 "nbformat": 4,
 "nbformat_minor": 5
}
