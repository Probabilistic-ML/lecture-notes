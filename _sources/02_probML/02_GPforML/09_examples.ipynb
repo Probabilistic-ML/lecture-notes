{
 "cells": [
  {
   "cell_type": "markdown",
   "id": "9f16d555",
   "metadata": {},
   "source": [
    "# Examples\n",
    "\n",
    "In the present section, we use Gaussian process regression as well as Gaussian process classification in order to demonstrate briefly the application of scikit-learn.\n",
    "\n",
    "We use the following [toy](https://scikit-learn.org/stable/datasets/toy_dataset.html) and [real-world](https://scikit-learn.org/stable/datasets/real_world.html) datasets provided by scikit-learn:\n",
    "\n",
    "- [diabetes dataset](https://scikit-learn.org/stable/datasets/toy_dataset.html#diabetes-dataset) for single-output regression\n",
    "- [California housing dataset](https://scikit-learn.org/stable/datasets/real_world.html#california-housing-dataset) for multi-output regression\n",
    "- [breast cancer dataset](https://scikit-learn.org/stable/datasets/toy_dataset.html#breast-cancer-wisconsin-diagnostic-dataset) for binary classification\n",
    "- [handwritten digits dataset](https://scikit-learn.org/stable/datasets/toy_dataset.html#optical-recognition-of-handwritten-digits-dataset) for multi-class classification\n",
    "\n",
    "The scikit-learn website provides detailed information on the number of samples, the features, the labels and the specific task.\n",
    "\n",
    "Each dataset is splitted into training and test data. Afterwards, the model is constructed from the training data and finally, the model quality of measured in use of the test data and a suitable metric.\n",
    "\n",
    "## Diabetes Progression\n",
    "\n",
    "The data contains information on 442 diabetes patients:\n",
    "- 10 features are given (age, sex, BMI, average blood pressure as well as six blood serum measurements)\n",
    "- the label is a quantitative measure of disease progression one year after baseline"
   ]
  },
  {
   "cell_type": "code",
   "execution_count": 1,
   "id": "b637a62a",
   "metadata": {},
   "outputs": [
    {
     "name": "stdout",
     "output_type": "stream",
     "text": [
      "scaling factor = 1.29, noise level = 0.47\n",
      "length scales = [6.28, 7.5, 5.02, 7.18, 15.79, 397.2, 7.71, 365.15, 3.13, 106.73]\n",
      "\n",
      "r2 = 0.5238, mse = 2523.04, mae = 39.47\n"
     ]
    }
   ],
   "source": [
    "import numpy as np\n",
    "from sklearn.datasets import load_diabetes\n",
    "from sklearn.model_selection import train_test_split\n",
    "from sklearn.preprocessing import StandardScaler, MinMaxScaler\n",
    "from sklearn.gaussian_process import GaussianProcessRegressor\n",
    "from sklearn.gaussian_process.kernels import RBF, Matern, ConstantKernel, WhiteKernel\n",
    "from sklearn.metrics import r2_score, mean_squared_error, mean_absolute_error\n",
    "\n",
    "# load data\n",
    "diabetes_dataset = load_diabetes()\n",
    "\n",
    "X = diabetes_dataset[\"data\"]\n",
    "y = diabetes_dataset[\"target\"].reshape(-1, 1)\n",
    "\n",
    "# split data (80% train and 20% test)\n",
    "# training: 353 samples, test: 89 samples\n",
    "X_train, X_test, y_train, y_test = train_test_split(X, y, test_size=0.2, random_state=42)\n",
    "\n",
    "# scale data\n",
    "scalerX, scalery = StandardScaler(), StandardScaler()\n",
    "X_train_ = scalerX.fit_transform(X_train)\n",
    "y_train_ = scalery.fit_transform(y_train)\n",
    "\n",
    "# construct GPR model\n",
    "\n",
    "# scaled, anisotropic RBF kernel with noise\n",
    "kernel = ConstantKernel() * RBF(length_scale= 10 * [1.0], length_scale_bounds=(1e-03, 1e6)) \n",
    "kernel += WhiteKernel(noise_level=1e-3, noise_level_bounds=(1e-05, 5))\n",
    "\n",
    "model = GaussianProcessRegressor(kernel)\n",
    "model.fit(X_train_, y_train_)\n",
    "\n",
    "# print optimized hyperparameter values\n",
    "params = model.kernel_.get_params()\n",
    "noise_level = params[\"k2\"].get_params()[\"noise_level\"]\n",
    "scaling_factor = params[\"k1\"].get_params()[\"k1\"].get_params()[\"constant_value\"]\n",
    "length_scales = list(params[\"k1\"].get_params()[\"k2\"].get_params()[\"length_scale\"])\n",
    "print(\"scaling factor = {:.2f}, noise level = {:.2f}\".format(scaling_factor, noise_level))\n",
    "print(\"length scales = {}\".format([np.round(l, 2) for l in length_scales]))\n",
    "\n",
    "# test model\n",
    "y_pred = model.predict(scalerX.transform(X_test))\n",
    "y_pred = scalery.inverse_transform(y_pred)\n",
    "y_pred = np.rint(y_pred) # labels should be integer valued\n",
    "\n",
    "r2 = r2_score(y_test, y_pred)\n",
    "mse = mean_squared_error(y_test, y_pred)\n",
    "mae = mean_absolute_error(y_test, y_pred)\n",
    "print(\"\\nr2 = {:.4f}, mse = {:.2f}, mae = {:.2f}\".format(r2, mse, mae))"
   ]
  },
  {
   "cell_type": "markdown",
   "id": "7faceb17",
   "metadata": {},
   "source": [
    "## House values and Incomes\n",
    "\n",
    "The dataset contains information on housings in 20640 areas (block groups) in California:\n",
    "- 7 features (median house age, average number of rooms per household, average number of bedrooms per household, block group population, average number of household members, block group latitude, block group longitude)\n",
    "- 2 labels (median house value, median income)"
   ]
  },
  {
   "cell_type": "code",
   "execution_count": 17,
   "id": "4325caed",
   "metadata": {},
   "outputs": [
    {
     "name": "stdout",
     "output_type": "stream",
     "text": [
      "scaling factor = 8.24, noise level = 0.20\n",
      "length scale = 3.06\n",
      "\n",
      "r2 = 0.7079, mse = 0.65, mae = 0.58\n"
     ]
    }
   ],
   "source": [
    "import numpy as np\n",
    "from sklearn.datasets import fetch_california_housing\n",
    "from sklearn.model_selection import train_test_split\n",
    "from sklearn.preprocessing import StandardScaler, MinMaxScaler\n",
    "from sklearn.decomposition import PCA\n",
    "from sklearn.gaussian_process import GaussianProcessRegressor\n",
    "from sklearn.gaussian_process.kernels import RBF, Matern, ConstantKernel, WhiteKernel\n",
    "from sklearn.metrics import r2_score, mean_squared_error, mean_absolute_error\n",
    "\n",
    "# load data\n",
    "housing_dataset = fetch_california_housing()\n",
    "\n",
    "# use first feature (median income) as additional label\n",
    "X = housing_dataset[\"data\"][:, 1:]\n",
    "y = np.stack((housing_dataset[\"target\"], housing_dataset[\"data\"][:, 0]), axis=1)\n",
    "\n",
    "# split data (50% train and 50% test)\n",
    "# training: 10320 samples, test: 10320 samples\n",
    "X_train, X_test, y_train, y_test = train_test_split(X, y, test_size=0.5, random_state=42)\n",
    "\n",
    "# scale data\n",
    "scalerX, scalery = StandardScaler(), StandardScaler()\n",
    "X_train_ = scalerX.fit_transform(X_train)\n",
    "y_train_ = scalery.fit_transform(y_train)\n",
    "\n",
    "# use PCA for labels\n",
    "pca = PCA()\n",
    "y_train_ = pca.fit_transform(y_train_)\n",
    "\n",
    "# construct GPR model\n",
    "\n",
    "# scaled, isotropic Matern 1.5 kernel with noise\n",
    "kernel = ConstantKernel() * Matern(length_scale=1.0, length_scale_bounds=(1e-03, 1e6))\n",
    "kernel += WhiteKernel(noise_level=1e-3, noise_level_bounds=(1e-05, 5))\n",
    "\n",
    "model = GaussianProcessRegressor(kernel)\n",
    "model.fit(X_train_, y_train_)\n",
    "\n",
    "# print optimized hyperparameter values\n",
    "params = model.kernel_.get_params()\n",
    "noise_level = params[\"k2\"].get_params()[\"noise_level\"]\n",
    "scaling_factor = params[\"k1\"].get_params()[\"k1\"].get_params()[\"constant_value\"]\n",
    "length_scale = params[\"k1\"].get_params()[\"k2\"].get_params()[\"length_scale\"]\n",
    "print(\"scaling factor = {:.2f}, noise level = {:.2f}\".format(scaling_factor, noise_level))\n",
    "print(\"length scale = {:.2f}\".format(length_scale))\n",
    "\n",
    "# test model\n",
    "y_pred = model.predict(scalerX.transform(X_test))\n",
    "y_pred = pca.inverse_transform(y_pred)\n",
    "y_pred = scalery.inverse_transform(y_pred)\n",
    "y_pred = np.rint(y_pred) # labels should be integer valued\n",
    "\n",
    "r2 = r2_score(y_test, y_pred)\n",
    "mse = mean_squared_error(y_test, y_pred)\n",
    "mae = mean_absolute_error(y_test, y_pred)\n",
    "print(\"\\nr2 = {:.4f}, mse = {:.2f}, mae = {:.2f}\".format(r2, mse, mae))"
   ]
  },
  {
   "cell_type": "markdown",
   "id": "58502c61",
   "metadata": {},
   "source": [
    "## Breast Cancer Diagnostic Analysis\n",
    "\n",
    "The data contains information on 569 biopsy results of breast cancer examinations. The features describe characteristics of the extracted cell nuclei. Each sample is labled as benign (357 in total) or malignant (212 in total)."
   ]
  },
  {
   "cell_type": "code",
   "execution_count": 3,
   "id": "d4dceb13",
   "metadata": {},
   "outputs": [
    {
     "name": "stdout",
     "output_type": "stream",
     "text": [
      "scaling factor = 674.51, noise level = 0.00\n",
      "length scales = [4387561.17, 137184.19, 4357651.34, 1590154.79, 484957.95, 15097.79, 183117.04, 32.84, 599515.51, 169495.2, 46.75, 285183.07, 667141.63, 10348.55, 44211.52, 111.83, 8092951.41, 28545.52, 11345.1, 6511338.6, 135112.68, 53.45, 58677.75, 20.0, 126.72, 139355.28, 1129358.66, 60.82, 71.53, 54485.86]\n",
      "\n",
      "acc = 98.25, f1 = 98.61\n",
      "precision = 97.26, recall = 100.00\n"
     ]
    },
    {
     "data": {
      "image/png": "[encoded data removed]",
      "text/plain": [
       "<Figure size 432x288 with 2 Axes>"
      ]
     },
     "metadata": {
      "needs_background": "light"
     },
     "output_type": "display_data"
    }
   ],
   "source": [
    "import numpy as np\n",
    "from sklearn.datasets import load_breast_cancer\n",
    "from sklearn.model_selection import train_test_split\n",
    "from sklearn.preprocessing import StandardScaler, MinMaxScaler\n",
    "from sklearn.gaussian_process import GaussianProcessClassifier\n",
    "from sklearn.gaussian_process.kernels import RBF, Matern, ConstantKernel, WhiteKernel\n",
    "from sklearn.metrics import accuracy_score, f1_score, precision_score, recall_score\n",
    "from sklearn.metrics import confusion_matrix, ConfusionMatrixDisplay\n",
    "\n",
    "import warnings\n",
    "warnings.filterwarnings(\"ignore\", category=RuntimeWarning) \n",
    "\n",
    "# load data\n",
    "breast_cancer_dataset = load_breast_cancer()\n",
    "\n",
    "X = breast_cancer_dataset[\"data\"]\n",
    "y = breast_cancer_dataset[\"target\"]\n",
    "\n",
    "# split data (80% train and 20% test)\n",
    "# training: 455 samples, test: 114 samples\n",
    "X_train, X_test, y_train, y_test = train_test_split(X, y, test_size=0.2, random_state=42)\n",
    "\n",
    "# scale data\n",
    "scalerX = StandardScaler()\n",
    "X_train_ = scalerX.fit_transform(X_train)\n",
    "\n",
    "# construct GPC model\n",
    "\n",
    "# scaled, anisotropic absolute exponential kernel with noise\n",
    "kernel = ConstantKernel() * Matern(length_scale= 30 * [1.0], length_scale_bounds=(1e-03, 1e20), nu=0.5) \n",
    "kernel += WhiteKernel(noise_level=1e-3, noise_level_bounds=(1e-08, 5))\n",
    "\n",
    "model = GaussianProcessClassifier(kernel)\n",
    "model.fit(X_train_, y_train)\n",
    "\n",
    "# print optimized hyperparameter values\n",
    "params = model.kernel_.get_params()\n",
    "noise_level = params[\"k2\"].get_params()[\"noise_level\"]\n",
    "scaling_factor = params[\"k1\"].get_params()[\"k1\"].get_params()[\"constant_value\"]\n",
    "length_scales = list(params[\"k1\"].get_params()[\"k2\"].get_params()[\"length_scale\"])\n",
    "print(\"scaling factor = {:.2f}, noise level = {:.2f}\".format(scaling_factor, noise_level))\n",
    "print(\"length scales = {}\".format([np.round(l, 2) for l in length_scales]))\n",
    "\n",
    "# test model\n",
    "y_pred = model.predict(scalerX.transform(X_test))\n",
    "\n",
    "acc = accuracy_score(y_test, y_pred) * 100\n",
    "f1 = f1_score(y_test, y_pred) * 100\n",
    "precision = precision_score(y_test, y_pred) * 100\n",
    "recall = recall_score(y_test, y_pred) * 100\n",
    "print(\"\\nacc = {:.2f}, f1 = {:.2f}\".format(acc, f1)) \n",
    "print(\"precision = {:.2f}, recall = {:.2f}\".format(precision, recall))\n",
    "cm = ConfusionMatrixDisplay.from_predictions(y_test, y_pred)"
   ]
  },
  {
   "cell_type": "markdown",
   "id": "ed617b9f",
   "metadata": {},
   "source": [
    "## Handwritten Digits\n",
    "\n",
    "The dataset contains 1797 images of handwritten single-digits with 8 x 8 pixels (see image below) and are labeled by the corresponding digit."
   ]
  },
  {
   "cell_type": "code",
   "execution_count": 4,
   "id": "c526872a",
   "metadata": {},
   "outputs": [
    {
     "data": {
      "image/png": "[encoded data removed]",
      "text/plain": [
       "<Figure size 288x288 with 10 Axes>"
      ]
     },
     "metadata": {
      "needs_background": "light"
     },
     "output_type": "display_data"
    }
   ],
   "source": [
    "import numpy as np\n",
    "from sklearn.datasets import load_digits\n",
    "from sklearn.model_selection import train_test_split\n",
    "from sklearn.preprocessing import StandardScaler, MinMaxScaler\n",
    "from sklearn.pipeline import Pipeline\n",
    "from sklearn.gaussian_process import GaussianProcessClassifier\n",
    "from sklearn.gaussian_process.kernels import RBF, Matern, ConstantKernel, WhiteKernel\n",
    "from sklearn.metrics import accuracy_score, f1_score, precision_score, recall_score\n",
    "import matplotlib.pyplot as plt\n",
    "\n",
    "# load data\n",
    "digits_dataset = load_digits()\n",
    "\n",
    "X = digits_dataset[\"data\"]\n",
    "y = digits_dataset[\"target\"]\n",
    "\n",
    "# split data (80% train and 20% test)\n",
    "# training: 1437 samples, test: 360 samples\n",
    "X_train, X_test, y_train, y_test = train_test_split(X, y, test_size=0.2, random_state=42)\n",
    "\n",
    "fig = plt.figure(figsize=(4, 4))\n",
    "for i in range(10):\n",
    "    image = digits_dataset.images[i]\n",
    "    ax = fig.add_subplot(5, 2, i+1)\n",
    "    ax.imshow(image, cmap='binary')\n",
    "    ax.axis(\"off\")\n",
    "plt.tight_layout()"
   ]
  },
  {
   "cell_type": "code",
   "execution_count": 16,
   "id": "6594d06c",
   "metadata": {},
   "outputs": [
    {
     "name": "stdout",
     "output_type": "stream",
     "text": [
      "10 models in total (one-vs-rest)\n",
      "\n",
      "model 1\n",
      "scaling factor = 11662.99, noise level = 0.00, length scale = 48.31\n",
      "\n",
      "model 2\n",
      "scaling factor = 806.02, noise level = 0.00, length scale = 12.78\n",
      "\n",
      "model 3\n",
      "scaling factor = 60834.97, noise level = 0.00, length scale = 87.88\n",
      "\n",
      "model 4\n",
      "scaling factor = 1825.51, noise level = 0.00, length scale = 18.07\n",
      "\n",
      "model 5\n",
      "scaling factor = 14733.96, noise level = 0.00, length scale = 49.48\n",
      "\n",
      "model 6\n",
      "scaling factor = 9271.52, noise level = 0.00, length scale = 43.64\n",
      "\n",
      "model 7\n",
      "scaling factor = 9826.90, noise level = 0.00, length scale = 41.69\n",
      "\n",
      "model 8\n",
      "scaling factor = 4168.60, noise level = 0.00, length scale = 33.30\n",
      "\n",
      "model 9\n",
      "scaling factor = 394.03, noise level = 0.00, length scale = 10.18\n",
      "\n",
      "model 10\n",
      "scaling factor = 1912.99, noise level = 0.00, length scale = 21.01\n",
      "\n",
      "acc = 97.78\n",
      "f1 = [100.          98.24561404 100.          97.05882353 100.\n",
      "  95.74468085  97.14285714  98.50746269  96.66666667  95.        ]\n"
     ]
    }
   ],
   "source": [
    "# scale data\n",
    "scalerX = StandardScaler()\n",
    "X_train_ = scalerX.fit_transform(X_train)\n",
    "\n",
    "# construct GPC model\n",
    "\n",
    "# scaled, isotropic RBF kernel with noise\n",
    "kernel = ConstantKernel() * RBF(length_scale= 1., length_scale_bounds=(1e-03, 1e3)) \n",
    "kernel += WhiteKernel(noise_level=1e-3, noise_level_bounds=(1e-07, 5))\n",
    "\n",
    "model = GaussianProcessClassifier(kernel)\n",
    "model.fit(X_train_, y_train)\n",
    "\n",
    "# print optimized hyperparameter values\n",
    "params = model.kernel_.get_params()\n",
    "print(\"10 models in total (one-vs-rest)\")\n",
    "for i in range(10):\n",
    "    print('\\nmodel {}'.format(i+1))\n",
    "    params_tmp = params[\"kernels\"][i].get_params()\n",
    "    noise_level = params_tmp[\"k2\"].get_params()[\"noise_level\"]\n",
    "    scaling_factor = params_tmp[\"k1\"].get_params()[\"k1\"].get_params()[\"constant_value\"]\n",
    "    length_scale = params_tmp[\"k1\"].get_params()[\"k2\"].get_params()[\"length_scale\"]\n",
    "    print(\"scaling factor = {:.2f}, noise level = {:.2f}, length scale = {:.2f}\".format(scaling_factor, \n",
    "                                                                                        noise_level, length_scale))\n",
    "\n",
    "# test model\n",
    "y_pred = model.predict(scalerX.transform(X_test))\n",
    "\n",
    "acc = accuracy_score(y_test, y_pred) * 100\n",
    "f1 = f1_score(y_test, y_pred, average=None, labels=range(10)) * 100\n",
    "print(\"\\nacc = {:.2f}\".format(acc))\n",
    "print(\"f1 = {}\".format(f1))"
   ]
  }
 ],
 "metadata": {
  "kernelspec": {
   "display_name": "Python 3 (ipykernel)",
   "language": "python",
   "name": "python3"
  },
  "language_info": {
   "codemirror_mode": {
    "name": "ipython",
    "version": 3
   },
   "file_extension": ".py",
   "mimetype": "text/x-python",
   "name": "python",
   "nbconvert_exporter": "python",
   "pygments_lexer": "ipython3",
   "version": "3.8.8"
  }
 },
 "nbformat": 4,
 "nbformat_minor": 5
}
