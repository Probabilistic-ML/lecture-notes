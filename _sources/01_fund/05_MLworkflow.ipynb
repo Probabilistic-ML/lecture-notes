{
 "cells": [
  {
   "cell_type": "markdown",
   "metadata": {},
   "source": [
    "# Machine Learning Workflow\n",
    "In this chapter you will get an overview about the workflow for machine learning. In general we are looking from raw data or structurized data in form of tables to our machine learning model. \n",
    "\n",
    "You will find a lot of information of this topic in varoius blogs and posts. However here are some sources\n",
    "\n",
    "[\"A Survey on Data Collection for Machine Learning\"](https://arxiv.org/pdf/1811.03402.pdf)  \n",
    "\n",
    "by Roh, Yuji and Heo, Geon and Whang, Steven {cite}```Roh2019``` and\n",
    "\n",
    "[\"Data Preprocessing for Supervised Learning\"](https://www.researchgate.net/profile/P-Pintelas/publication/228084519_Data_Preprocessing_for_Supervised_Learning/links/0c960517fefa258d0d000000/Data-Preprocessing-for-Supervised-Learning.pdf)  \n",
    "\n",
    "by Kotsiantis, Sotiris and Kanellopoulos, Dimitris and Pintelas, P. {cite}```Kotsiantis2006```.\n",
    "\n",
    "For finding dataset where you can test you knowledge you can look at\n",
    "\n",
    "https://archive.ics.uci.edu/ml/index.php or on https://www.kaggle.com/.\n"
   ]
  },
  {
   "cell_type": "markdown",
   "metadata": {},
   "source": [
    "## Data Preprocessing \n",
    "Before we can start to use the data for our machine learning models, we need to look at the data and preprocess this. In best case we have data in tables with just one category of data types (numerical, categorical, ordinal) and with no missing values. But this is very rare and we have to look on the raw data/tables to see what we will be faced. \n",
    "We will create a dataset here to show a non perfect example."
   ]
  },
  {
   "cell_type": "code",
   "execution_count": 195,
   "metadata": {},
   "outputs": [
    {
     "data": {
      "text/plain": [
       "{'name': [1, nan, 'AAA', 4, 'BBB', 5, 6],\n",
       " 'weight': [80, 7, 45, 70, 50, nan, 72],\n",
       " 'age': [50, 52, 12, 24, 18, 11, 35]}"
      ]
     },
     "execution_count": 195,
     "metadata": {},
     "output_type": "execute_result"
    }
   ],
   "source": [
    "data = {'name': [1,np.nan,\"AAA\",4,\"BBB\",5,6],\n",
    "        'weight': [80,7,45,70,50,np.nan,72],\n",
    "        'age': [50,52,12,24,18,11,35]}\n",
    "data"
   ]
  },
  {
   "cell_type": "markdown",
   "metadata": {},
   "source": [
    "The first thing to do is to look at the data in form of a table. The package `pandas` provides a framework for this. We will use this to look at tables and generate first plots."
   ]
  },
  {
   "cell_type": "code",
   "execution_count": 203,
   "metadata": {},
   "outputs": [
    {
     "data": {
      "text/html": [
       "<div>\n",
       "<style scoped>\n",
       "    .dataframe tbody tr th:only-of-type {\n",
       "        vertical-align: middle;\n",
       "    }\n",
       "\n",
       "    .dataframe tbody tr th {\n",
       "        vertical-align: top;\n",
       "    }\n",
       "\n",
       "    .dataframe thead th {\n",
       "        text-align: right;\n",
       "    }\n",
       "</style>\n",
       "<table border=\"1\" class=\"dataframe\">\n",
       "  <thead>\n",
       "    <tr style=\"text-align: right;\">\n",
       "      <th></th>\n",
       "      <th>name</th>\n",
       "      <th>weight</th>\n",
       "      <th>age</th>\n",
       "    </tr>\n",
       "  </thead>\n",
       "  <tbody>\n",
       "    <tr>\n",
       "      <th>0</th>\n",
       "      <td>1</td>\n",
       "      <td>80.0</td>\n",
       "      <td>50</td>\n",
       "    </tr>\n",
       "    <tr>\n",
       "      <th>1</th>\n",
       "      <td>NaN</td>\n",
       "      <td>7.0</td>\n",
       "      <td>52</td>\n",
       "    </tr>\n",
       "    <tr>\n",
       "      <th>2</th>\n",
       "      <td>AAA</td>\n",
       "      <td>45.0</td>\n",
       "      <td>12</td>\n",
       "    </tr>\n",
       "    <tr>\n",
       "      <th>3</th>\n",
       "      <td>4</td>\n",
       "      <td>70.0</td>\n",
       "      <td>24</td>\n",
       "    </tr>\n",
       "    <tr>\n",
       "      <th>4</th>\n",
       "      <td>BBB</td>\n",
       "      <td>50.0</td>\n",
       "      <td>18</td>\n",
       "    </tr>\n",
       "    <tr>\n",
       "      <th>5</th>\n",
       "      <td>5</td>\n",
       "      <td>NaN</td>\n",
       "      <td>11</td>\n",
       "    </tr>\n",
       "    <tr>\n",
       "      <th>6</th>\n",
       "      <td>6</td>\n",
       "      <td>72.0</td>\n",
       "      <td>35</td>\n",
       "    </tr>\n",
       "  </tbody>\n",
       "</table>\n",
       "</div>"
      ],
      "text/plain": [
       "  name  weight  age\n",
       "0    1    80.0   50\n",
       "1  NaN     7.0   52\n",
       "2  AAA    45.0   12\n",
       "3    4    70.0   24\n",
       "4  BBB    50.0   18\n",
       "5    5     NaN   11\n",
       "6    6    72.0   35"
      ]
     },
     "execution_count": 203,
     "metadata": {},
     "output_type": "execute_result"
    },
    {
     "data": {
      "image/png": "[encoded data removed]",
      "text/plain": [
       "<Figure size 432x288 with 1 Axes>"
      ]
     },
     "metadata": {
      "needs_background": "light"
     },
     "output_type": "display_data"
    }
   ],
   "source": [
    "import pandas as pd\n",
    "import numpy as np\n",
    "import matplotlib.pyplot as plt\n",
    "\n",
    "df = pd.DataFrame(data)\n",
    "df.plot(kind=\"bar\")\n",
    "df"
   ]
  },
  {
   "cell_type": "markdown",
   "metadata": {},
   "source": [
    "### Handling missing values\n",
    "Now we can see the data. We have different kind of values and type of data. We have 3 columns with different data types inside. We have missing values \"NaN: Not a Number\" and we have strings \"AAA\" inside the first column. We can drop all rows where a NaN is present. We could also fill NaNs with the mean of the whole column. For column 2 \"Age\" we can do this. But what is about column 1 \"name\"? Do the column name will give some information? "
   ]
  },
  {
   "cell_type": "code",
   "execution_count": 102,
   "metadata": {},
   "outputs": [
    {
     "data": {
      "text/html": [
       "<div>\n",
       "<style scoped>\n",
       "    .dataframe tbody tr th:only-of-type {\n",
       "        vertical-align: middle;\n",
       "    }\n",
       "\n",
       "    .dataframe tbody tr th {\n",
       "        vertical-align: top;\n",
       "    }\n",
       "\n",
       "    .dataframe thead th {\n",
       "        text-align: right;\n",
       "    }\n",
       "</style>\n",
       "<table border=\"1\" class=\"dataframe\">\n",
       "  <thead>\n",
       "    <tr style=\"text-align: right;\">\n",
       "      <th></th>\n",
       "      <th>name</th>\n",
       "      <th>weight</th>\n",
       "      <th>age</th>\n",
       "    </tr>\n",
       "  </thead>\n",
       "  <tbody>\n",
       "    <tr>\n",
       "      <th>0</th>\n",
       "      <td>1</td>\n",
       "      <td>80.0</td>\n",
       "      <td>50</td>\n",
       "    </tr>\n",
       "    <tr>\n",
       "      <th>2</th>\n",
       "      <td>AAA</td>\n",
       "      <td>45.0</td>\n",
       "      <td>12</td>\n",
       "    </tr>\n",
       "    <tr>\n",
       "      <th>3</th>\n",
       "      <td>4</td>\n",
       "      <td>70.0</td>\n",
       "      <td>24</td>\n",
       "    </tr>\n",
       "    <tr>\n",
       "      <th>4</th>\n",
       "      <td>BBB</td>\n",
       "      <td>50.0</td>\n",
       "      <td>18</td>\n",
       "    </tr>\n",
       "    <tr>\n",
       "      <th>6</th>\n",
       "      <td>6</td>\n",
       "      <td>72.0</td>\n",
       "      <td>35</td>\n",
       "    </tr>\n",
       "  </tbody>\n",
       "</table>\n",
       "</div>"
      ],
      "text/plain": [
       "  name  weight  age\n",
       "0    1    80.0   50\n",
       "2  AAA    45.0   12\n",
       "3    4    70.0   24\n",
       "4  BBB    50.0   18\n",
       "6    6    72.0   35"
      ]
     },
     "execution_count": 102,
     "metadata": {},
     "output_type": "execute_result"
    }
   ],
   "source": [
    "df_dropped = df.dropna()\n",
    "df_dropped"
   ]
  },
  {
   "cell_type": "markdown",
   "metadata": {},
   "source": [
    "To drop all rows with missing information is often not a good idea. We would lose too much data. In this case we lost two from our 8 data points, which is huge. We also lost information because the \"name\" column had a missing value. For now we will drop the \"name\" column because it will not give any insights despite some kind of index. But we will instead use the build in index from `pandas` dataframe. Instead of dropping all rows with missing value, we just can give value to the missing ones. This is called imputing and we can use `scikit-learn` library for this. We can fill missing values with mean, median, most-frequent or constant values. There are also technique which will use correlated features to get a better imputing value, for example stochastic regression imputation."
   ]
  },
  {
   "cell_type": "code",
   "execution_count": 230,
   "metadata": {},
   "outputs": [
    {
     "data": {
      "text/html": [
       "<div>\n",
       "<style scoped>\n",
       "    .dataframe tbody tr th:only-of-type {\n",
       "        vertical-align: middle;\n",
       "    }\n",
       "\n",
       "    .dataframe tbody tr th {\n",
       "        vertical-align: top;\n",
       "    }\n",
       "\n",
       "    .dataframe thead th {\n",
       "        text-align: right;\n",
       "    }\n",
       "</style>\n",
       "<table border=\"1\" class=\"dataframe\">\n",
       "  <thead>\n",
       "    <tr style=\"text-align: right;\">\n",
       "      <th></th>\n",
       "      <th>name</th>\n",
       "      <th>weight</th>\n",
       "      <th>age</th>\n",
       "    </tr>\n",
       "  </thead>\n",
       "  <tbody>\n",
       "    <tr>\n",
       "      <th>0</th>\n",
       "      <td>1</td>\n",
       "      <td>80.0</td>\n",
       "      <td>50</td>\n",
       "    </tr>\n",
       "    <tr>\n",
       "      <th>1</th>\n",
       "      <td>NaN</td>\n",
       "      <td>7.0</td>\n",
       "      <td>52</td>\n",
       "    </tr>\n",
       "    <tr>\n",
       "      <th>2</th>\n",
       "      <td>AAA</td>\n",
       "      <td>45.0</td>\n",
       "      <td>12</td>\n",
       "    </tr>\n",
       "    <tr>\n",
       "      <th>3</th>\n",
       "      <td>4</td>\n",
       "      <td>70.0</td>\n",
       "      <td>24</td>\n",
       "    </tr>\n",
       "    <tr>\n",
       "      <th>4</th>\n",
       "      <td>BBB</td>\n",
       "      <td>50.0</td>\n",
       "      <td>18</td>\n",
       "    </tr>\n",
       "    <tr>\n",
       "      <th>5</th>\n",
       "      <td>5</td>\n",
       "      <td>54.0</td>\n",
       "      <td>11</td>\n",
       "    </tr>\n",
       "    <tr>\n",
       "      <th>6</th>\n",
       "      <td>6</td>\n",
       "      <td>72.0</td>\n",
       "      <td>35</td>\n",
       "    </tr>\n",
       "  </tbody>\n",
       "</table>\n",
       "</div>"
      ],
      "text/plain": [
       "  name  weight  age\n",
       "0    1    80.0   50\n",
       "1  NaN     7.0   52\n",
       "2  AAA    45.0   12\n",
       "3    4    70.0   24\n",
       "4  BBB    50.0   18\n",
       "5    5    54.0   11\n",
       "6    6    72.0   35"
      ]
     },
     "execution_count": 230,
     "metadata": {},
     "output_type": "execute_result"
    }
   ],
   "source": [
    "from sklearn.impute import SimpleImputer\n",
    "imputer = SimpleImputer(missing_values=np.nan, strategy='mean')\n",
    "imputer.fit(df[[\"weight\"]])\n",
    "df['weight'] = imputer.transform(df[['weight']])\n",
    "df"
   ]
  },
  {
   "cell_type": "markdown",
   "metadata": {},
   "source": [
    "### Outlier detection\n",
    "The next step is to check the valid values for meaningfulness. This is also known as outlier detection. We can either do this by hand in small datasets or use statistics method or even use unsupervised learning techniques to achieve this. As a statistical method we can use standard deviation cutoff method, where we say every value outside 3 times standard deviation is an outlier.\n",
    "\n",
    "We can use unsupervised machine learning techniques for example one cluster methods like Support Vector Machine (which we will handle later in this lecture). For our toy dataset we will start to look for outliers by hand. We quickly see that a weight of \"7\" does not seem very reasonable for a \"52\" year old person. However, we will try a statistical method, a standard deviation cutoff. There we will see that the \"7\" is within 3 times a standard deviation and even worse in the 2 times interval. For this tool it is necessary to have a dataset which is more \"normal\" and drawn from Gaussian distribution. "
   ]
  },
  {
   "cell_type": "code",
   "execution_count": 219,
   "metadata": {},
   "outputs": [
    {
     "data": {
      "text/plain": [
       "weight   -19.095828\n",
       "age      -18.777950\n",
       "dtype: float64"
      ]
     },
     "execution_count": 219,
     "metadata": {},
     "output_type": "execute_result"
    }
   ],
   "source": [
    "data_mean, data_std = np.mean(df), np.std(df)\n",
    "data_mean-3*data_std"
   ]
  },
  {
   "cell_type": "markdown",
   "metadata": {},
   "source": [
    "Another technique which require less normal sampled dataset is a interquantile range method. We define the middle 50% of the data as the inter quantile range. We will say that all data is outside which is 1.5 times the inter quantile range above the 75% and lower the 25% quantile. Here we will see that our by hand identified outlier is outside the lower threshold."
   ]
  },
  {
   "cell_type": "code",
   "execution_count": 252,
   "metadata": {},
   "outputs": [
    {
     "name": "stdout",
     "output_type": "stream",
     "text": [
      "lower bound:  12.25 upper bound:  106.25\n"
     ]
    }
   ],
   "source": [
    "q25, q75 = np.percentile(df[[\"weight\"]], 25), np.percentile(df[[\"weight\"]], 75)\n",
    "iqr = q75 - q25\n",
    "\n",
    "cut_off = iqr * 1.5\n",
    "lower, upper = q25 - cut_off, q75 + cut_off\n",
    "\n",
    "print(\"lower bound: \",lower, \"upper bound: \",upper)"
   ]
  },
  {
   "cell_type": "markdown",
   "metadata": {},
   "source": [
    "Another mentioned technique is the one class SVM. This is not easy to handle because we have to set a \"kernel\", a $\\gamma$ and $\\nu$ which are the hyperparameters of the SVM. The plot underneath shows the result where we can see that one data point (blue) is far away from the others(yellow). But to find these parameters is often exhausting."
   ]
  },
  {
   "cell_type": "code",
   "execution_count": 272,
   "metadata": {},
   "outputs": [
    {
     "data": {
      "text/plain": [
       "<matplotlib.collections.PathCollection at 0x23bee8eb5c8>"
      ]
     },
     "execution_count": 272,
     "metadata": {},
     "output_type": "execute_result"
    },
    {
     "data": {
      "image/png": "[encoded data removed]",
      "text/plain": [
       "<Figure size 432x288 with 1 Axes>"
      ]
     },
     "metadata": {
      "needs_background": "light"
     },
     "output_type": "display_data"
    }
   ],
   "source": [
    "from sklearn import svm\n",
    "X = df[[\"weight\"]]\n",
    "#x_scaled = StandardScaler().fit_transform(X)\n",
    "x_scaled = X\n",
    "out = OneClassSVM(kernel=\"linear\", gamma=\"auto\", nu=0.1).fit(x_scaled)\n",
    "plt.scatter(x_scaled,np.zeros([7]),c=out.predict(x_scaled))\n"
   ]
  },
  {
   "cell_type": "markdown",
   "metadata": {},
   "source": [
    "\n",
    "### Feature selection\n",
    "The next step is to reduce input variable to the most useful ones or at least which we believe which are the most useful ones. We want to drop as much irrelevant and redundant data as possible. This section will give an overview about feature selection. We will focus on two methods, Filter based and wrapper based methods.\n",
    "\n",
    "Wrapper Methods:\n",
    "In general wrapper methods create many models with different subsets of input features. Then select those features which performs best according to a performance metric. As example we can refer to **recursive feature elimination** (RFE): \"https://scikit-learn.org/stable/modules/generated/sklearn.feature_selection.RFE.html\"\n",
    "\n",
    "Filter Methods:\n",
    "In filter selection methods we use statistical techniques to evaluate the correlation between each input variable and a target variable. Methods to note for numerical input/output are **Pearson’s correlation coefficient** for linear relationship, **Spearman’s rank coefficient** for nonlinear relationship and for categorical input/output are **Chi-Squared test** and **Mutual Information score**.\n",
    "\n",
    "Methods to note:\n",
    "Decision Trees have a build in feature selection during the training.\n",
    "\n",
    "Feature selection reduces the number of feature whereas dimensionality reduction create a projection of the data in a less dimensional subspace. For this topic we recommend to look on: Autoenconder Methods, Principal Component Analysis (PCA) or Manifold Learning.\n"
   ]
  },
  {
   "cell_type": "markdown",
   "metadata": {},
   "source": [
    "### Scaling \n",
    "The effects of scaling is to better compare results for the user and the machine learning technique. In distance-based algorithms it is necessary to scale the features. So the distances can be compared. Moreover scaled data can help to perform better in the optimization process. We only have one learning rate for all features. With different features with highly different ranges we could need a small step size to not overshoot in one axis but just taking mini steps in the other axis.\n",
    "\n",
    "Standardization: \n",
    "\n",
    "$$\n",
    "X' = \\frac{X - X_{min}}{X_{max}-X_{min}}\n",
    "$$\n",
    "\n",
    "This is also know as Min/Max Scaling.\n",
    "\n",
    "Normalization: \n",
    "\n",
    "$$\n",
    "X' = \\frac{X - \\mu}{\\sigma}\n",
    "$$\n",
    "\n",
    "scaling with mean $\\mu$ and standart deviation $\\sigma$, use this when the data is drawn from gaussian distribution.\n"
   ]
  },
  {
   "cell_type": "code",
   "execution_count": 270,
   "metadata": {},
   "outputs": [
    {
     "data": {
      "text/plain": [
       "array([[ 1.15259149,  1.33155134],\n",
       "       [-2.08353078,  1.4575089 ],\n",
       "       [-0.39897398, -1.06164229],\n",
       "       [ 0.70928707, -0.30589693],\n",
       "       [-0.17732177, -0.68376961],\n",
       "       [ 0.        , -1.12462107],\n",
       "       [ 0.79794796,  0.38686965]])"
      ]
     },
     "execution_count": 270,
     "metadata": {},
     "output_type": "execute_result"
    }
   ],
   "source": [
    "X = df[[\"weight\", \"age\"]]\n",
    "x_scaled = StandardScaler().fit_transform(X) #Normalization\n",
    "x_scaled\n"
   ]
  },
  {
   "cell_type": "code",
   "execution_count": 271,
   "metadata": {},
   "outputs": [
    {
     "data": {
      "text/plain": [
       "array([[1.        , 0.95121951],\n",
       "       [0.        , 1.        ],\n",
       "       [0.52054795, 0.02439024],\n",
       "       [0.8630137 , 0.31707317],\n",
       "       [0.5890411 , 0.17073171],\n",
       "       [0.64383562, 0.        ],\n",
       "       [0.89041096, 0.58536585]])"
      ]
     },
     "execution_count": 271,
     "metadata": {},
     "output_type": "execute_result"
    }
   ],
   "source": [
    "X = df[[\"weight\", \"age\"]]\n",
    "x_scaled = MinMaxScaler().fit_transform(X) #Standardization aka MinMax Scaler\n",
    "x_scaled\n"
   ]
  },
  {
   "cell_type": "markdown",
   "metadata": {},
   "source": [
    "### Imbalanced Data\n",
    "The last part of preprocessing is to check for imbalanced data. For example you have an event which only occurs in 1% of your data. This means if you would now split your train and test data it could happen that none of the 1% is in the training data or vise versa. Even if all of the 1% is in the training data, this is only a fraction of all events and could lead to the result that the algorithm did not pay enough attention to this rare event.\n",
    "\n",
    "To overcome this negative results we can use one of the following:\n",
    "\n",
    "- Under sampling: randomly eliminate the majority class data points. Then use a dataset where all important events are balanced.\n",
    "- Over sampling: increase the minority class by randomly copying the rare events.\n",
    "- Ensemble different resampled datasets: Train $n$ different models which have all the minority class samples and always different majority class.\n",
    "- Adjust your ML method instead of the data: You can adjust the cost function in your algorithm that the minority class has more impact."
   ]
  },
  {
   "cell_type": "markdown",
   "metadata": {},
   "source": [
    "**Preprocessing Cheat Sheet**\n",
    "\n",
    "|    Issues   |   what to do   |\n",
    "| :------------ | -------------: |\n",
    "| Look at data / Visualize the data | use of dataframes and tables / visualize with plots |\n",
    "| Handling NaNs | drop every row with a NaN / Imputing techniques |\n",
    "| Outliers detection   | statistical tools / unsupervised Learning algorithms / remove bad data by hand |\n",
    "| Feature selection   | keep one feature and drop high correlated features / supervised techniques:Filter(pearson Coefficent, Chi squared, Anova), Wrapper(genetic algorithms/RFE)|\n",
    "| Scaling   | scale the data for better comparability(for you and your algorithm) / Normalization / Standardization|\n",
    "| Imbalanced data   | use small batches (ensemble different resampled datasets) / over - under-sampling /adjust your ML technique|"
   ]
  },
  {
   "cell_type": "markdown",
   "metadata": {},
   "source": [
    "## Model selection\n",
    "Now we will dive into the Machine Learning part. We will look deeper into model selection techniques. We are looking for a model that has enough explanatory power to explain the variance in the data without over- or under-fitting, yet is parsimonious. We already showed regularization in form of LASSO and Ridge Regression to overcome overfitting in previous chapter and will continue on statistical and information based model selection. Before this we will take a look on different metrics for classification, regression and clustering and will make clear some various definitions.\n",
    "\n",
    "### Metrics\n",
    "\n",
    "**Classification**\n",
    "```{list-table} Confusion Matrix\n",
    ":header-rows: 1\n",
    "* - \n",
    "  - real Positive\n",
    "  - real Negative  \n",
    "* - Predicted Positive\n",
    "  - True Positive (TP)\n",
    "  - False Negative (FN)\n",
    "* - Predicted negative\n",
    "  - False Positive (FP)\n",
    "  - True Negative (TN)\n",
    "```\n",
    "Accuracy is the probability that prediction(positive or negative) is correct\n",
    "\n",
    "$$\n",
    "ACC = \\frac{TP+TN}{TP+TN+FN+FP}\n",
    "$$\n",
    "\n",
    "precision is probability that positive class prediction is correct\n",
    "\n",
    "$$\n",
    "PRC = \\frac{TP}{TP+FN}\n",
    "$$\n",
    "\n",
    "recall is probability that positive class is correctly predicted\n",
    "\n",
    "$$\n",
    "REC = \\frac{TP}{TP+FN}\n",
    "$$\n",
    "\n",
    "$F_1$-score is harmonic mean of precision and recall\n",
    "\n",
    "$$\n",
    "REC = \\frac{2TP}{2TP+FP+FN}\n",
    "$$\n",
    "\n",
    "Optimally you want a model that predict both the correct, the precision and the recall which is simply the $F_1$-score. \n",
    "\n",
    "Mentioned other metrics for classification: Cross-entropy, Area under the receiver operating characteristic (ROC) Curve (AUC). \n",
    "\n",
    "**Regression**\n",
    "\n",
    "Already in optimizatin explained is the residual sum of squares (RSS) which can be related to mean sqaured error (MSE). The MSE and the root mean squared error is defined as\n",
    "\n",
    "$$\n",
    "MSE = \\frac{1}{n}\\sum_{i=1}^n(y_i-\\hat y_i)^2 \\newline\n",
    "RSME = \\sqrt{MSE}\n",
    "$$\n",
    "with $y$ is the real value and $\\hat y$ is the prediction from our model.\n",
    "\n",
    "Another popular metric is the R-squared or adjusted R-squared\n",
    "\n",
    "$$\n",
    "R^2 = 1-\\frac{SS_{regression}}{SS_{total}} = 1-\\frac{\\sum_i(y_i-\\hat y_i)}{\\sum_i(y_i-\\bar y_i)}\n",
    "$$\n",
    "where $\\bar y_i$ is the mean of the data. To interpret these value we will look at a picture from wikipedia.\n",
    "<a href=\"https://de.wikipedia.org/wiki/Bestimmtheitsma%C3%9F\"> <center><img src=\"https://upload.wikimedia.org/wikipedia/commons/4/4a/R2values.svg\" style=\"width: 150px;\"></center></a>\n",
    "\n",
    "**Clustering**\n",
    "For clustering techniques we will refer to silhoutte score, (adjusted) rand index and mutual information score.\n",
    "\n",
    "### Statistical and information based model selection\n",
    "Occam's razor says optimal models are as parsimonious as possible. For this we need a formal method to select the optimal model that provides the best trade-off between variance and bias. We can answer this with hypothesis testing.\n",
    "\n",
    "**Likelihood ratio test** can be used for nested models $M_0 \\subset M_1$. For this we can use Wilk's Theorem with the Chi-squared distribution. For example in polynomial regression where the model with higher polynomial degree includes the model with lower degrees is a nested model. We can make a t-statistic and like a t-test we can calculate a p-value to drop our hypothesis $H_0$ in favor of an alternative hypothesis $H_1$ or believe in $H_0$ when the p-values is under a given threshold.\n",
    "\n",
    "**Akaike's Information Criteria (AIC)** can be used for models with $k$ parameters $\\Theta$ and a likelihood function  $\\log(\\mathcal{L}(\\Theta|x))$ and is defined as \n",
    "\n",
    "$$\n",
    "AIC:= 2k - 2\\log(\\mathcal{L}(\\Theta|x))\n",
    "$$\n",
    "\n",
    "This score of a model can be seen as an estimate of expected information loss if we replace the true data by the prediction of our model. By minimizing this we finding the optimal model. \n",
    "\n",
    "Other techniques to notes are Bayesian Information Criterion (BIC) and Minimum Description Length (MDL).\n",
    "\n",
    "### Sampling / Resampling based model selection\n",
    "\n",
    "**Cross Validation**\n",
    "\n",
    "In cross validation techniques we will partition the dataset $D$ in training and hold-out/test sets. More precise in **k-fold cross validation** we will split the data into $k$ equally sized folds $D_i$. Then we train $k$ models with $k-1$ training sets and $1$ test set. But in each model we will change the test set, that we will get different results. With a given metric for example Root Mean Square Error (RMSE), we can compute an average model accuracy.\n",
    "\n",
    "<a href=\"https://en.wikipedia.org/wiki/Cross-validation_(statistics)\"> <center><img src=\"https://upload.wikimedia.org/wikipedia/commons/c/c7/LOOCV.gif\" style=\"width: 80px;\"></center></a>\n",
    "\n",
    "We can now look at the average accuracy of our models which we trained a took these with the minimum. This cross-validation technique allows us to address our model selection problem by means of a comparison of the (cross-validated) accuracy (i.e. the prediction performance) of our models. A major benefit of cross-validation approach is that it is a simple numerical approach that generally works for arbitrary machine learning techniques, as long as 1. we can derive a prediction from a model that we can validate in our test set, and 2. we have enough data to  apply a cross-validation. A similar technique is **leave one out cross validation (LOOCV)** where we have the issue that we have not a big dataset and rather have for example 20 data points. There we would make a cross validation with $k=20$ folds and just leave one sample out.\n",
    "\n",
    "**Bootstrapping** \n",
    "\n",
    "In the other case that we have a huge datasets, where model training or even plotting can take some time we want to take not all of the samples. For this we can refer to bootstrap algorithms. In these we draw $n$ samples with replacement from the whole dataset - in contrast to cross validation holdout which is without replacement. We now train a model for each of these bootstrap sets and compute a metric (accuracy, RSME). We now compute the overall metric as the mean of each individual bootstrap metric. But bootstrapping is even more, we assume that we take samples from a normal distribution $\\mathcal{N}(\\mu,\\sigma^2)$ with unkown mean $\\mu$ and variance $\\sigma^2$. We can estimate the mean and the variance by the data. Out of this assumption we can calculate a standard error and a 95% interval for the metric(accuracy). We now have a feeling for a values of the accuracy and can estimate if our model is good. If we are unsure about the samples if it follows a normal distribution we could use percentile method."
   ]
  },
  {
   "cell_type": "markdown",
   "metadata": {},
   "source": [
    "## References\n",
    "\n",
    "```{bibliography}\n",
    ":filter: docname in docnames\n",
    ":style: plain\n",
    "```"
   ]
  }
 ],
 "metadata": {
  "interpreter": {
   "hash": "067663456fc5fccf97cea92cc69518470993d8e291b14599bdfd029daf45b646"
  },
  "kernelspec": {
   "display_name": "Python 3.7.7 64-bit ('tf2_gpu': conda)",
   "name": "python3"
  },
  "language_info": {
   "codemirror_mode": {
    "name": "ipython",
    "version": 3
   },
   "file_extension": ".py",
   "mimetype": "text/x-python",
   "name": "python",
   "nbconvert_exporter": "python",
   "pygments_lexer": "ipython3",
   "version": "3.7.7"
  },
  "orig_nbformat": 4
 },
 "nbformat": 4,
 "nbformat_minor": 2
}
