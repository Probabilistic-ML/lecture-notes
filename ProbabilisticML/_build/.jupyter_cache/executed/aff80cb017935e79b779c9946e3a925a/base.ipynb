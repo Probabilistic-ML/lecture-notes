{
 "cells": [
  {
   "cell_type": "code",
   "execution_count": 1,
   "id": "2d43afde",
   "metadata": {
    "tags": [
     "remove-cell"
    ]
   },
   "outputs": [],
   "source": [
    "%matplotlib notebook\n",
    "import numpy as np\n",
    "import matplotlib.pyplot as plt\n",
    "from matplotlib.animation import FuncAnimation, FFMpegFileWriter\n",
    "import seaborn as sns\n",
    "sns.set_style('darkgrid')\n",
    "\n",
    "# animation for paths of a Gaussian process\n",
    "# kernel specifies the covariance function\n",
    "# x-values from -xbnd to xbnd\n",
    "# y-axis has values from -ybnd to ybnd\n",
    "# saves gif if string is passed to name\n",
    "def get_anim(kernel, xbnd=10., ybnd=2.5, name=None):\n",
    "    nb_steps = 500\n",
    "    delta_x = 2*xbnd / nb_steps\n",
    "    x = np.arange(-xbnd, xbnd, delta_x)\n",
    "    mean = np.zeros_like(x)\n",
    "    cov = kernel(x.reshape(-1, 1))\n",
    "\n",
    "    # First set up the figure, the axis, and the plot element we want to animate\n",
    "    fig = plt.figure(num=' ', figsize=(10, 8))\n",
    "    ax = plt.axes(xlim=(-xbnd, xbnd), ylim=(-ybnd, ybnd))\n",
    "    ax.set_xlabel('x', fontsize=13)\n",
    "    ax.set_ylabel('f(x)', fontsize=13)\n",
    "    line, = ax.plot([], [], lw=2)\n",
    "\n",
    "    # initialization function: plot the background of each frame\n",
    "    def init():\n",
    "        line.set_data([], [])\n",
    "        return line,\n",
    "\n",
    "    # animation function.  This is called sequentially\n",
    "    def animate(i):\n",
    "        x = np.arange(-xbnd, xbnd, delta_x)\n",
    "        samples = np.random.multivariate_normal(mean, cov)\n",
    "        line.set_data(x, samples)\n",
    "        return line,\n",
    "\n",
    "    # call the animator.  blit=True means only re-draw the parts that have changed.\n",
    "    anim = FuncAnimation(fig, animate, init_func=init,\n",
    "                         frames=50, interval=400, blit=True) #, repeat=False)\n",
    "    if name is not None:\n",
    "        anim.save(name + '.gif', writer=FFMpegFileWriter(fps=2)) #, dpi=200)\n",
    "    return anim\n",
    "\n",
    "# common kernels:\n",
    "from sklearn.gaussian_process.kernels import DotProduct # linear kernel\n",
    "from sklearn.metrics.pairwise import polynomial_kernel # polynomial kernel\n",
    "from sklearn.gaussian_process.kernels import RBF # squared exponential kernel\n",
    "from sklearn.gaussian_process.kernels import Matern # Matern kernel\n",
    "from sklearn.gaussian_process.kernels import RationalQuadratic # rational quadratic kernel\n",
    "from sklearn.gaussian_process.kernels import ExpSineSquared # periodic kernel\n",
    "\n",
    "# # example\n",
    "# kernel = Matern(nu=1.5) \n",
    "# anim = get_anim(kernel, xbnd=4., ybnd=5.)"
   ]
  },
  {
   "cell_type": "code",
   "execution_count": 2,
   "id": "889b52e3",
   "metadata": {
    "tags": [
     "hide-cell"
    ]
   },
   "outputs": [],
   "source": [
    "kernel1 = ExpSineSquared()\n",
    "kernel2 = RBF()\n",
    "\n",
    "def kernel(x):\n",
    "    return np.multiply(kernel1(x), kernel2(x))\n",
    "\n",
    "# anim = get_anim(kernel, xbnd=4., ybnd=5.)"
   ]
  }
 ],
 "metadata": {
  "celltoolbar": "Tags",
  "kernelspec": {
   "display_name": "Python 3 (ipykernel)",
   "language": "python",
   "name": "python3"
  },
  "language_info": {
   "codemirror_mode": {
    "name": "ipython",
    "version": 3
   },
   "file_extension": ".py",
   "mimetype": "text/x-python",
   "name": "python",
   "nbconvert_exporter": "python",
   "pygments_lexer": "ipython3",
   "version": "3.7.12"
  }
 },
 "nbformat": 4,
 "nbformat_minor": 5
}