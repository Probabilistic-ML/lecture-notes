{
 "cells": [
  {
   "cell_type": "markdown",
   "id": "f08a4b8d",
   "metadata": {},
   "source": [
    "# Advanced Methods\n",
    "\n",
    "Some extensions of $\\mathcal{GP}$ are introduced briefly in the following. The aim is not to present a complete overview of the current state of research here but to provide some starting point about possible research topics. These arise from some disadvantages of traditional $\\mathcal{GP}$ formulations as well as proposed solutions to eliminate or neutralize them."
   ]
  },
  {
   "cell_type": "markdown",
   "id": "de904303",
   "metadata": {},
   "source": []
  }
 ],
 "metadata": {
  "kernelspec": {
   "display_name": "Python 3 (ipykernel)",
   "language": "python",
   "name": "python3"
  },
  "language_info": {
   "codemirror_mode": {
    "name": "ipython",
    "version": 3
   },
   "file_extension": ".py",
   "mimetype": "text/x-python",
   "name": "python",
   "nbconvert_exporter": "python",
   "pygments_lexer": "ipython3",
   "version": "3.8.10"
  }
 },
 "nbformat": 4,
 "nbformat_minor": 5
}
