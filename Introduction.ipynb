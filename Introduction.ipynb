{
  "nbformat": 4,
  "nbformat_minor": 0,
  "metadata": {
    "colab": {
      "name": "Introduction.ipynb",
      "provenance": [],
      "collapsed_sections": [],
      "toc_visible": true,
      "authorship_tag": "ABX9TyMIOo6kUJGsXYFTiZPH7PAx",
      "include_colab_link": true
    },
    "kernelspec": {
      "name": "python3",
      "display_name": "Python 3"
    },
    "language_info": {
      "name": "python"
    }
  },
  "cells": [
    {
      "cell_type": "markdown",
      "metadata": {
        "id": "view-in-github",
        "colab_type": "text"
      },
      "source": [
        "<a href=\"https://colab.research.google.com/github/Probabilistic-ML/colab-notes/blob/master/Introduction.ipynb\" target=\"_parent\"><img src=\"https://colab.research.google.com/assets/colab-badge.svg\" alt=\"Open In Colab\"/></a>"
      ]
    },
    {
      "cell_type": "markdown",
      "metadata": {
        "id": "GhaQ0k-TB1p6"
      },
      "source": [
        "# Fundamentals of Probability Theory\n",
        "\n"
      ]
    },
    {
      "cell_type": "markdown",
      "metadata": {
        "id": "mpYx1S41C9ZM"
      },
      "source": [
        "## Probabilities"
      ]
    },
    {
      "cell_type": "markdown",
      "metadata": {
        "id": "LloBaJs9DF7U"
      },
      "source": [
        "## Probability Distributions\n",
        "\n",
        "### Discrete Distributions\n",
        "\n",
        "### Continuous Distributions"
      ]
    },
    {
      "cell_type": "markdown",
      "metadata": {
        "id": "peXx9JjzD9Dy"
      },
      "source": [
        "## Random Variables"
      ]
    },
    {
      "cell_type": "markdown",
      "metadata": {
        "id": "vBZgMAqMB-V3"
      },
      "source": [
        "# Bayesian vs. Frequentists View"
      ]
    },
    {
      "cell_type": "markdown",
      "metadata": {
        "id": "KuwQq_zpCASr"
      },
      "source": [
        "# MLE, MAP & Bayesian Inference"
      ]
    },
    {
      "cell_type": "markdown",
      "metadata": {
        "id": "NAnRBDb5CG2v"
      },
      "source": [
        "# Illustration: Linear Regression"
      ]
    },
    {
      "cell_type": "markdown",
      "metadata": {
        "id": "BErSLoyTDbyG"
      },
      "source": [
        "## Ordinary Least Squares (OLS) = MLE"
      ]
    },
    {
      "cell_type": "markdown",
      "metadata": {
        "id": "LUTTdpfVDgry"
      },
      "source": [
        "## Ridge Regression = MAP with Gaussian Prior"
      ]
    },
    {
      "cell_type": "markdown",
      "metadata": {
        "id": "_83DZArFDt6b"
      },
      "source": [
        "## LASSO = MAP with Laplace Prior"
      ]
    },
    {
      "cell_type": "markdown",
      "metadata": {
        "id": "yVTVP1VeCIb_"
      },
      "source": [
        "# Optimization Methods"
      ]
    },
    {
      "cell_type": "markdown",
      "metadata": {
        "id": "wtGH1uLSCJv_"
      },
      "source": [
        "# Machine Learning Workflow"
      ]
    },
    {
      "cell_type": "code",
      "metadata": {
        "id": "-O4XsAqkr7OH"
      },
      "source": [
        ""
      ],
      "execution_count": null,
      "outputs": []
    }
  ]
}