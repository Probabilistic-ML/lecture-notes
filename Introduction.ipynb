{
 "cells": [
  {
   "cell_type": "markdown",
   "metadata": {
    "colab_type": "text",
    "id": "view-in-github"
   },
   "source": [
    "<a href=\"https://colab.research.google.com/github/Probabilistic-ML/colab-notes/blob/master/Introduction.ipynb\" target=\"_parent\"><img src=\"https://colab.research.google.com/assets/colab-badge.svg\" alt=\"Open In Colab\"/></a>"
   ]
  },
  {
   "cell_type": "markdown",
   "metadata": {},
   "source": [
    "# Notation"
   ]
  },
  {
   "cell_type": "markdown",
   "metadata": {
    "id": "GhaQ0k-TB1p6"
   },
   "source": [
    "# Fundamentals of Probability Theory\n",
    "\n",
    "In the present section, we define the basic terms of probability theory and statistics. Moreover, we state the most common examples of discrete and continuous probability distributions. \n",
    "\n",
    "The content follows the textbooks\n",
    "\n",
    "[\"Statistik für Ingenieure - \n",
    "Wahrscheinlichkeitsrechnung und Datenauswertung endlich verständlich\"](https://www.springer.com/de/book/9783642548567)\n",
    "\n",
    "by Aeneas Rooch and\n",
    "\n",
    "[\"Grundlagen der\n",
    "Wahrscheinlichkeitsrechnung\n",
    "und Statistik - Eine Einführung für Studierende\n",
    "der Informatik, der Ingenieur- und\n",
    "Wirtschaftswissenschaften\"](https://www.springer.com/de/book/9783662541616)\n",
    "\n",
    "by Erhard Cramer and Udo Kamps.\n",
    "\n",
    "The goal is to avoid unnecessarily complex mathematical backround, but to provide the required framework to understand the subsequent machine learning methods. Nevertheless, for the the sake of completeness, additional references are given from time to time. A more profound mathematical theory can for example be found in [\"Wahrscheinlichkeitstheorie\"](https://www.springer.com/de/book/9783642360183) by Achim Klenke. \n",
    "\n",
    "All three books are available free of charge via [DigiBib](https://hs-niederrhein.digibib.net/)."
   ]
  },
  {
   "cell_type": "markdown",
   "metadata": {
    "id": "mpYx1S41C9ZM"
   },
   "source": [
    "## Probability Spaces\n",
    "\n",
    "**Definition 1.1**: In order to model the outcome of a random experiment, we denote by $\\Omega$ the **sample space** of all possible outcomes, i.e.,\n",
    "\n",
    "$$\\Omega = \\{ \\omega ~|~ \\omega \\text{ is a possible outcome of the random experiment}\\}.$$\n",
    "\n",
    "Accordingly, each element $\\omega \\in \\Omega$ is called an **outcome**. A subset $A$ of $\\Omega$ of possible outcomes is called an **event**. If $A$ contains only a single outcome $\\omega$, i.e., $A=\\{\\omega\\}$ for some $\\omega \\in \\Omega$, $A$ is also called an elementary event.\n",
    "\n",
    "**Example 1.2**: If we model the rolling of an ordinary cubic dice, the sample space \n",
    "\n",
    "$$\\Omega= \\{1, 2, 3, 4, 5, 6\\}$$\n",
    "\n",
    "is given by the 6 possible outcomes. The event $A$ of rolling an even number is given by $A = \\{2, 4, 6\\} \\subset \\Omega$ and the elementary event of rolling a six is given by $A=\\{6\\}$."
   ]
  },
  {
   "cell_type": "markdown",
   "metadata": {
    "id": "mpYx1S41C9ZM"
   },
   "source": [
    "### Discrete Probability Spaces\n",
    "\n",
    "**Definition 1.3**: Let $\\Omega$ be a *finite or countable* sample space and denote by $\\mathcal{P}(\\Omega) = \\{A~|~A \\subset \\Omega\\}$ the set of all subsets of $\\Omega$ (the so-called power set). Moreover, let $p: \\Omega \\rightarrow [0, 1]$ be a map such that $\\sum_{\\omega \\in \\Omega} p(\\omega) = 1$. Then, the map $P: \\mathcal{P}(\\Omega) \\rightarrow [0,1]$ given by\n",
    "\n",
    "$$ P(A) := \\sum_{\\omega \\in A} p(\\omega) \\quad \\text{for } A \\in \\mathcal{P}(\\Omega)$$\n",
    "\n",
    "is called a **discrete probability measure** or a **discrete probability distribution**. The triple $(\\Omega, \\mathcal{P}(\\Omega), P)$ or briefly $(\\Omega, P)$ is called a **discrete probability space**.\n",
    "\n",
    "**Remark 1.4**: \n",
    "- A probability measure $P$ assigns to each possible event a probability between 0 (\"impossible\") to 1 (\"sure\"). \n",
    "- $P$ is completely characterized by the elementary probabilities (i.e., the probabilities of elementary events specified by $p$) in the case of discrete probability distributions (by definition).\n",
    "- The condition $\\sum_{\\omega \\in \\Omega} p(\\omega) = 1$ guarantees that $P(\\Omega) = 1$. In other words, it has to be sure that the outcome of a random experiment is indeed in $\\Omega$ and moreover, $P(\\Omega) > 1$ would make no sense in terms of probabilities.\n",
    "\n",
    "**Example 1.5**: Assumed that we are dealing with a fair dice in Example 1.2, it is reasonable to define $p(\\omega):=\\frac{1}{6}$ for each $\\omega=1, \\dots,6$. Hence, each outcome of a dice roll is each likely. Consequently, the probability of rolling an even number is \n",
    "\n",
    "$$P(\\{2, 4, 6\\}) = \\sum_{\\omega \\in \\{2, 4, 6\\}} p(\\omega) = 3 \\cdot \\frac{1}{6} = 0.5$$\n",
    "\n",
    "as expected.\n",
    "\n",
    "**Corollary 1.6**: As a direct consequence of Definition 1.3, a discrete probability measure has the following properties:\n",
    "- $0 \\le P(A) \\le 1$ for each event $A \\in \\mathcal{P}(\\Omega)$,\n",
    "- $P(\\Omega) = 1$,\n",
    "- $P$ is $\\sigma$-additive, i.e., for pairwise disjoint events $A_i$, $i \\in \\mathbb{N}$, it holds\n",
    "\n",
    "$$P(\\cup_{i=1}^{\\infty} A_i) = \\sum_{i=1}^{\\infty} P(A_i).$$\n",
    "\n",
    "**Remark 1.7**: \n",
    "- The statements in Corollary 1.6 are also called **Kolmogorov axioms**.\n",
    "- The term \"pairwise disjoint\" means that two arbitrary events do not have any common elements. For example, the events $\\{2, 4, 6\\}$ and $\\{1, 3\\}$ are disjoint, but the events $\\{2, 4, 6\\}$ and $\\{2, 3\\}$ are not, since the share the outcome $2$.\n",
    "- The last statement of Corollary 1.6 also holds true for a *finite number* of sets $A_i$, $i=1,\\dots,n$, by simply choosingchoosing $A_i = \\emptyset$ (empty set) for $i > n$. If we consider only two disjoint sets $A_1$ and $A_2$, it follows that $P(A_1 \\cup A_2) = P(A_1) + P(A_2)$. This means that the probability that the event $A_1$ or the event $A_2$ occurs equals the sum of the probabilities, which is intuitive. "
   ]
  },
  {
   "cell_type": "markdown",
   "metadata": {
    "id": "mpYx1S41C9ZM"
   },
   "source": [
    "### Continuous Probability Spaces\n",
    "\n",
    "It turns out that the definition of probability spaces requires a different approach in the case of sample spaces that contain *uncountably* many outcomes. For example, the sample space could be given by the real numbers ($\\Omega = \\mathbb{R}$) or a higher dimensional space (e.g. $\\Omega = \\mathbb{R}^d$, $d >= 2$). Indeed, the definition of (probability) measures on arbitrary sample spaces turns out to be a complex mathematical problem which is the foundation of **measure theory**. This theory introduces so-called $\\sigma$-algebras which specify the measurable events, i.e., the events for which it is possible to assign a probability without generating any inconsistencies. An introduction can be found in the first chapter of [\"Wahrscheinlichkeitstheorie\"](https://www.springer.com/de/book/9783642360183) by Achim Klenke. Measure theory is the foundation of very powerful results, since it enables mathematicians to define probability measures even on infinite dimensional sample spaces such as spaces of functions which lead to so-called stochastic processes. A special case are **Gaussian processes** which turn out to be very useful in the context of machine learning and are an essential part of this lecture.  \n",
    "\n",
    "Luckily, we do not necessarily need to consider measure theory in detail for our purposes. For the mentioned cases ($\\mathbb{\\Omega} = [0, 1]$ or $\\Omega = \\mathbb{R}^d$, $d >= 1$), we can use ordinary integrals in order to define probabilities at least on \"nice\" events.\n",
    "\n",
    "**Remark 1.8**: \n",
    "- Set $C := \\big\\{ [a_1, b_1] \\times [a_2, b_2] \\times \\cdots \\times [a_d, b_d]~\\big|~-\\infty \\le a_i \\le b_i \\le \\infty, ~i = 1, \\dots, d\\big\\}$. An event $A \\in C$ is simply a box. For d=1 we obtain an interval $A = [a_1, b_1]$ and for d=2 we get a rectangle $A = [a_1, b_1] \\times [a_2, b_2] \\subset \\mathbb{R}^2$.\n",
    "- In measury theory, $C$ is a so-called generating system of the **Borel** $\\sigma$-**algebra** $\\mathcal{B}(\\mathbb{R}^d)$. The Borel $\\sigma$-algebra is the smallest collection of events with sufficiently nice properties which contains alle these boxes.\n",
    "- $\\mathcal{B}(\\mathbb{R}^d)$ is fairly abstract. Just rembember that\n",
    "    * $\\mathcal{B}(\\mathbb{R}^d)$ contains all events we would like / are able to assign a probability to,\n",
    "    * there are subsets of $\\mathbb{R}^d$ which are not in $\\mathcal{B}(\\mathbb{R}^d)$, but we do not care, since they are not important.\n",
    "\n",
    "**Definition 1.9**: Let $\\Omega = \\mathbb{R}^d$, $d \\ge 1$, be the sample space and $f: \\mathbb{R}^d \\rightarrow \\mathbb{R}$ be an integrable non-negative function such that \n",
    "\n",
    "$$ \\int_{\\mathbb{R}^d} f(x)~dx = 1. $$\n",
    "\n",
    "Then, the map $P: C \\rightarrow [0, 1]$ defined by \n",
    "\n",
    "$$ P(A) := \\int_{a_d}^{b_d} \\cdots \\int_{a_1}^{b_1} f(x) ~ dx \\quad \\text{for } A = [a_1, b_1] \\times [a_2, b_2] \\times \\cdots \\times [a_d, b_d] \\in C$$\n",
    "\n",
    "extends uniquely to $\\mathcal{B}(\\Omega)$ (not part of the lecture) and this extension is called a **continuous probability measure** or a **continuous probability distribution**. $f$ is called the **probability density function** (PDF) of $P$ or briefly probabilty density or simply density. The triple $(\\Omega, \\mathcal{B}(\\Omega), P)$ or briefly $(\\Omega, P)$ is called a **continuous probability space**. Furthermore, the function $F_X: \\mathbb{R}^d \\rightarrow [0, 1]$ defined by\n",
    "\n",
    "$$ F(x) := P((-\\infty, x_1] \\times \\cdots \\times (-\\infty, x_d]) \\quad \\text{for } x=(x_1, \\dots, x_d) \\in \\mathbb{R}^d$$\n",
    "\n",
    "is called the **cumulative distribution function** (CDF) of $P$.\n",
    "\n",
    "**Example 1.10** (Standard Normal Distribution): It holds\n",
    "\n",
    "$$ \\int_{\\mathbb{R}} \\exp\\big(-\\frac{1}{2} x^2\\big)~dx = \\sqrt{2 \\pi}.$$\n",
    "\n",
    "Therefore, $f: \\mathbb{R} \\rightarrow \\mathbb{R}$ defined by $f(x):= \\frac{1}{\\sqrt{2 \\pi}}~\\exp\\big(-\\frac{1}{2} x^2\\big)$ for $x \\in \\mathbb{R}$ defines a continuous probability distribution with density $f$.\n",
    "\n",
    "**Remark 1.11**: \n",
    "- As in the case of discrete probability spaces, a probability measure as defined in Definition 1.9 fulfills the **Kolmogorov axioms** stated in Corollary 1.6.\n",
    "- In order to unify the notation of discrete and continuous probability spaces, we denote a general probability space by $(\\Omega, \\mathcal{F}, P)$, where $\\mathcal{F}$ denotes a $\\sigma$-algebra (in our case either $\\mathcal{P}(\\Omega)$ or $\\mathcal{B}(\\Omega)$).\n",
    "- Keep in mind that $f$ is simply a non-negative function whose volume under the graph is exactly one and the probability of some event $A$ is the volume under the graph of $f$ restricted to $A$. In the plot below, $P([-2, 0]) \\approx 0.48$ is illustrated for a standard normal distribution. In other words, the probability to observe an outcome between -2 and 0 in a standard normally distributed experiment is approximately 48%. "
   ]
  },
  {
   "cell_type": "code",
   "execution_count": 31,
   "metadata": {},
   "outputs": [
    {
     "data": {
      "image/png": "[encoded data removed]",
      "text/plain": [
       "<Figure size 1440x432 with 2 Axes>"
      ]
     },
     "metadata": {
      "needs_background": "light"
     },
     "output_type": "display_data"
    }
   ],
   "source": [
    "import matplotlib.pyplot as plt\n",
    "import numpy as np\n",
    "import scipy.stats as stats\n",
    "\n",
    "fig = plt.figure(figsize=(20, 6))\n",
    "fig.add_subplot(121)\n",
    "x1 = np.linspace(-5, 5, 100)\n",
    "plt.plot(x1, stats.norm.pdf(x1))\n",
    "plt.fill_between(x1, stats.norm.pdf(x1), alpha=0.2, label='total volume (= 1)')\n",
    "plt.legend()\n",
    "fig.add_subplot(122)\n",
    "x2 = np.linspace(-2, 0, 100)\n",
    "plt.plot(x1, stats.norm.pdf(x1))\n",
    "vol = stats.norm.cdf(0) - stats.norm.cdf(-2)\n",
    "plt.fill_between(x2, stats.norm.pdf(x2), alpha=0.2, color='green', label=r'volume from -2 to 0 ($\\approx$ {:2.2f})'.format(vol))\n",
    "plt.legend()\n",
    "plt.show()"
   ]
  },
  {
   "cell_type": "markdown",
   "metadata": {
    "id": "peXx9JjzD9Dy"
   },
   "source": [
    "## Random Variables\n",
    "\n",
    "Imagine that we perform multiple independent random experiments by rolling repeatedly ($n$-times) a fair dice as in Example 1.5. The corresponding sample space is given by\n",
    "\n",
    "$$\\Omega = \\{ \\omega = (\\omega_1, \\omega_2, \\dots, \\omega_n)~|~\\omega_i \\in \\{1, 2, 3, 4, 5, 6\\} \\ \\text{for } i=1, \\dots,n \\}.$$\n",
    "\n",
    "Since the experiments are independent and we consider a fair dice, it is reasonable to define\n",
    "\n",
    "$$ p(\\omega) = \\frac{1}{6^n} \\quad \\text{for each } \\omega \\in \\Omega$$\n",
    "\n",
    "which results in a discrete probability space $(\\Omega, \\mathcal{P}(\\Omega), P)$. Eventually, we are not interested in events with respect to $\\Omega$, but for example in the average outcome of the experiments or the number of times of rolling a six. Instead of modelling these experiments directly by redefining $\\Omega$ and $p$, it is very useful to apply the concept of random variables:\n",
    "\n",
    "**Definition 1.12**: Let $(\\Omega, \\mathcal{F}, P)$ be a probabiliy space. A map $X: \\Omega \\rightarrow \\mathbb{R}^d$, $d \\ge 1$, is called a real-valued **random variable**, if \n",
    "\n",
    "$$ X^{-1}(A) := \\{ \\omega \\in \\Omega~|~X(\\omega) \\in A \\} \\in \\mathcal{F}$$\n",
    "\n",
    "for each $A \\in \\mathcal{B}(\\mathbb{R}^d)$ and the probability measure $P_X: \\mathcal{B}(\\Omega) \\rightarrow [0, 1]$ given by\n",
    "\n",
    "$$P_X(A) := P(X^{-1}(A)) \\quad \\text{for } A \\in \\mathcal{B}(\\Omega)$$\n",
    "\n",
    "is called the **distribution of** $X$ **under** $P$. If $P_X$ admits a probability density as defined in Definition 1.9, then we denote the density by $f_X$. Furthermore, the cumulative distribution function of $P_X$ is denoted by $F_X$.\n",
    "\n",
    "**Remark 1.13**: \n",
    "- If $(\\Omega, \\mathcal{F}, P)$ is a discrete probability space as defined in Definition 1.3, **each** map $X: \\Omega \\rightarrow \\mathbb{R}^d$ is a random variable, since $\\mathcal{F} = \\mathcal{P}(\\Omega)$ contains all subsets of $\\Omega$.\n",
    "- If $(\\Omega, \\mathcal{F}, P)$ is a continuous probability space as defined in Definition 1.9, it can be shown that at least each **continuous** map $X: \\Omega \\rightarrow \\mathbb{R}^d$ is a random variable.\n",
    "- If $d > 1$, $X: \\Omega \\rightarrow \\mathbb{R}^d$ is a random variable if and only if each component $X_i: \\Omega \\rightarrow \\mathbb{R}$ is a random variable."
   ]
  },
  {
   "cell_type": "markdown",
   "metadata": {},
   "source": [
    "## Independence\n",
    "\n",
    "**Definition 1.14**: Let $(\\Omega, \\mathcal{F}, P)$ be a probability space. Then two events $A, B \\in \\mathcal{F}$ are called **independent**, if \n",
    "\n",
    "$$ P(A \\cap B) = P(A) P(B).$$\n",
    "\n",
    "Let $X: \\Omega \\rightarrow \\mathbb{R}$ and $Y: \\Omega \\rightarrow \\mathbb{R}$ be two random variables. Then $X$ and $Y$ are called **independent random variables**, if the events $X^{-1}(A)$ and $Y^{-1}(B)$ are independent for all $A, B \\in \\mathcal{B}(\\mathbb{R})$. This is equivalent to the property\n",
    "\n",
    "$$F_{(X, Y)}(x, y) = F_X(x) F_Y(y) \\quad \\text{for all } x,y \\in \\mathbb{R}$$\n",
    "\n",
    "and if the corresponding densities exist to\n",
    "\n",
    "$$f_{(X, Y)}(x, y) = f_X(x) f_Y(y) \\quad \\text{for all } x,y \\in \\mathbb{R}.$$\n",
    "\n",
    "\n",
    "**Remark 1.15**: \n",
    "- Independence basically means that the occurrence of event A has no impact on the occurrence of event B or in terms of random variables, the random variables should not impact each other.\n",
    "- The definition of independent random variables generalizes easily to $d > 1$."
   ]
  },
  {
   "cell_type": "markdown",
   "metadata": {},
   "source": [
    "## Important Probability Distributions\n",
    "\n",
    "### Discrete Distributions\n",
    "\n",
    "### Continuous Distributions"
   ]
  },
  {
   "cell_type": "markdown",
   "metadata": {
    "id": "vBZgMAqMB-V3"
   },
   "source": [
    "# Bayesian vs. Frequentists View"
   ]
  },
  {
   "cell_type": "markdown",
   "metadata": {
    "id": "KuwQq_zpCASr"
   },
   "source": [
    "# MLE, MAP & Bayesian Inference"
   ]
  },
  {
   "cell_type": "markdown",
   "metadata": {
    "id": "NAnRBDb5CG2v"
   },
   "source": [
    "# An illustrative example for MLE and MAP: Linear Regression"
   ]
  },
  {
   "cell_type": "markdown",
   "metadata": {
    "id": "BErSLoyTDbyG"
   },
   "source": [
    "## Ordinary Least Squares (OLS) = MLE"
   ]
  },
  {
   "cell_type": "markdown",
   "metadata": {
    "id": "LUTTdpfVDgry"
   },
   "source": [
    "## Ridge Regression = MAP with Gaussian Prior"
   ]
  },
  {
   "cell_type": "markdown",
   "metadata": {
    "id": "_83DZArFDt6b"
   },
   "source": [
    "## LASSO = MAP with Laplace Prior"
   ]
  },
  {
   "cell_type": "markdown",
   "metadata": {
    "id": "yVTVP1VeCIb_"
   },
   "source": [
    "# Optimization Methods"
   ]
  },
  {
   "cell_type": "markdown",
   "metadata": {
    "id": "wtGH1uLSCJv_"
   },
   "source": [
    "# Machine Learning Workflow"
   ]
  }
 ],
 "metadata": {
  "colab": {
   "authorship_tag": "ABX9TyMDvZhnYgIODK6jqPrbpjuP",
   "collapsed_sections": [],
   "include_colab_link": true,
   "name": "Introduction.ipynb",
   "provenance": [],
   "toc_visible": true
  },
  "kernelspec": {
   "display_name": "Python 3",
   "language": "python",
   "name": "python3"
  },
  "language_info": {
   "codemirror_mode": {
    "name": "ipython",
    "version": 3
   },
   "file_extension": ".py",
   "mimetype": "text/x-python",
   "name": "python",
   "nbconvert_exporter": "python",
   "pygments_lexer": "ipython3",
   "version": "3.8.5"
  }
 },
 "nbformat": 4,
 "nbformat_minor": 4
}
