{
  "nbformat": 4,
  "nbformat_minor": 0,
  "metadata": {
    "colab": {
      "name": "Introduction.ipynb",
      "provenance": [],
      "collapsed_sections": [],
      "toc_visible": true,
      "authorship_tag": "ABX9TyNtDdpUUL2mQUOz93eH3flE",
      "include_colab_link": true
    },
    "kernelspec": {
      "name": "python3",
      "display_name": "Python 3"
    },
    "language_info": {
      "name": "python"
    }
  },
  "cells": [
    {
      "cell_type": "markdown",
      "metadata": {
        "id": "view-in-github",
        "colab_type": "text"
      },
      "source": [
        "<a href=\"https://colab.research.google.com/github/Probabilistic-ML/colab-notes/blob/master/Introduction.ipynb\" target=\"_parent\"><img src=\"https://colab.research.google.com/assets/colab-badge.svg\" alt=\"Open In Colab\"/></a>"
      ]
    },
    {
      "cell_type": "markdown",
      "metadata": {
        "id": "GhaQ0k-TB1p6"
      },
      "source": [
        "# 1. Fundamentals of Probability Theory"
      ]
    },
    {
      "cell_type": "markdown",
      "metadata": {
        "id": "mpYx1S41C9ZM"
      },
      "source": [
        "## Probabilities\n",
        "\n",
        "  "
      ]
    },
    {
      "cell_type": "markdown",
      "metadata": {
        "id": "LloBaJs9DF7U"
      },
      "source": [
        "## Probability Distributions\n",
        "\n",
        "  \n",
        "\n",
        "### Discrete Distributions\n",
        "\n",
        "### Continuous Distributions\n",
        "\n",
        "### Basic Terms\n",
        "\n",
        "Mean, Variance..."
      ]
    },
    {
      "cell_type": "markdown",
      "metadata": {
        "id": "peXx9JjzD9Dy"
      },
      "source": [
        "## Random Variables"
      ]
    },
    {
      "cell_type": "markdown",
      "metadata": {
        "id": "vBZgMAqMB-V3"
      },
      "source": [
        "# 2. Bayesian vs. Frequentists View"
      ]
    },
    {
      "cell_type": "markdown",
      "metadata": {
        "id": "KuwQq_zpCASr"
      },
      "source": [
        "# 3. MLE, MAP & Bayesian Inference"
      ]
    },
    {
      "cell_type": "markdown",
      "metadata": {
        "id": "NAnRBDb5CG2v"
      },
      "source": [
        "# 4. An illustrative example for MLE and MAP: Linear Regression"
      ]
    },
    {
      "cell_type": "markdown",
      "metadata": {
        "id": "BErSLoyTDbyG"
      },
      "source": [
        "## Ordinary Least Squares (OLS) = MLE"
      ]
    },
    {
      "cell_type": "markdown",
      "metadata": {
        "id": "LUTTdpfVDgry"
      },
      "source": [
        "## Ridge Regression = MAP with Gaussian Prior"
      ]
    },
    {
      "cell_type": "markdown",
      "metadata": {
        "id": "_83DZArFDt6b"
      },
      "source": [
        "## LASSO = MAP with Laplace Prior"
      ]
    },
    {
      "cell_type": "markdown",
      "metadata": {
        "id": "yVTVP1VeCIb_"
      },
      "source": [
        "# 5. Optimization Methods"
      ]
    },
    {
      "cell_type": "markdown",
      "metadata": {
        "id": "wtGH1uLSCJv_"
      },
      "source": [
        "# 6. Machine Learning Workflow"
      ]
    }
  ]
}