{
  "nbformat": 4,
  "nbformat_minor": 0,
  "metadata": {
    "colab": {
      "name": "Introduction.ipynb",
      "provenance": [],
      "collapsed_sections": [],
      "toc_visible": true,
      "authorship_tag": "ABX9TyMsWoXf0KGNmXDE1mgYPJS1",
      "include_colab_link": true
    },
    "kernelspec": {
      "name": "python3",
      "display_name": "Python 3"
    },
    "language_info": {
      "name": "python"
    }
  },
  "cells": [
    {
      "cell_type": "markdown",
      "metadata": {
        "id": "view-in-github",
        "colab_type": "text"
      },
      "source": [
        "<a href=\"https://colab.research.google.com/github/Probabilistic-ML/colab-notes/blob/master/Introduction.ipynb\" target=\"_parent\"><img src=\"https://colab.research.google.com/assets/colab-badge.svg\" alt=\"Open In Colab\"/></a>"
      ]
    },
    {
      "cell_type": "markdown",
      "metadata": {
        "id": "GhaQ0k-TB1p6"
      },
      "source": [
        "# Fundamentals of Probability Theory\n",
        "\n",
        "In the present chapter, we define the basic terms of probability theory and statistics. Moreover, we state the most common examples of discrete and continuous probability distributions. \n",
        "\n",
        "The content follows the textbooks\n",
        "\n",
        "[\"Statistik für Ingenieure - \n",
        "Wahrscheinlichkeitsrechnung und Datenauswertung endlich verständlich\"](https://www.springer.com/de/book/9783642548567)\n",
        "\n",
        "by Aeneas Rooch and\n",
        "\n",
        "[\"Grundlagen der\n",
        "Wahrscheinlichkeitsrechnung\n",
        "und Statistik - Eine Einführung für Studierende\n",
        "der Informatik, der Ingenieur- und\n",
        "Wirtschaftswissenschaften\"](https://www.springer.com/de/book/9783662541616)\n",
        "\n",
        "by Erhard Cramer and Udo Kamps. The books are available free of charge via [DigiBib](https://hs-niederrhein.digibib.net/).\n",
        "\n",
        "The goal is to avoid unnecessarily complex mathematical backround, but to provide the required framework to understand the subsequent machine learning methods. Nevertheless, for the the sake of completeness, additional references are given from time to time."
      ]
    },
    {
      "cell_type": "markdown",
      "metadata": {
        "id": "mpYx1S41C9ZM"
      },
      "source": [
        "## Probabilities\n",
        "\n",
        "**Definition 1.1**: In order to model the outcome of a random experiment, we denote by $\\Omega$ the **sample space** of all possible outcomes, i.e.,\n",
        "\n",
        "$$\\Omega = \\{ \\omega ~|~ \\omega \\text{ is a possible outcome of the random experiment}\\}.$$\n",
        "\n",
        "Accordingly, each element $\\omega \\in \\Omega$ is called an **outcome**. A subset $A$ of possible outcomes is called an **event**.\n",
        "\n",
        "**Example 1.2**:"
      ]
    },
    {
      "cell_type": "markdown",
      "metadata": {
        "id": "LloBaJs9DF7U"
      },
      "source": [
        "## Probability Distributions\n",
        "\n",
        "  \n",
        "\n",
        "### Discrete Distributions\n",
        "\n",
        "### Continuous Distributions\n",
        "\n",
        "### Basic Terms\n",
        "\n",
        "Mean, Variance..."
      ]
    },
    {
      "cell_type": "markdown",
      "metadata": {
        "id": "peXx9JjzD9Dy"
      },
      "source": [
        "## Random Variables"
      ]
    },
    {
      "cell_type": "markdown",
      "metadata": {
        "id": "vBZgMAqMB-V3"
      },
      "source": [
        "# Bayesian vs. Frequentists View"
      ]
    },
    {
      "cell_type": "markdown",
      "metadata": {
        "id": "KuwQq_zpCASr"
      },
      "source": [
        "# MLE, MAP & Bayesian Inference"
      ]
    },
    {
      "cell_type": "markdown",
      "metadata": {
        "id": "NAnRBDb5CG2v"
      },
      "source": [
        "# An illustrative example for MLE and MAP: Linear Regression"
      ]
    },
    {
      "cell_type": "markdown",
      "metadata": {
        "id": "BErSLoyTDbyG"
      },
      "source": [
        "## Ordinary Least Squares (OLS) = MLE"
      ]
    },
    {
      "cell_type": "markdown",
      "metadata": {
        "id": "LUTTdpfVDgry"
      },
      "source": [
        "## Ridge Regression = MAP with Gaussian Prior"
      ]
    },
    {
      "cell_type": "markdown",
      "metadata": {
        "id": "_83DZArFDt6b"
      },
      "source": [
        "## LASSO = MAP with Laplace Prior"
      ]
    },
    {
      "cell_type": "markdown",
      "metadata": {
        "id": "yVTVP1VeCIb_"
      },
      "source": [
        "# Optimization Methods"
      ]
    },
    {
      "cell_type": "markdown",
      "metadata": {
        "id": "wtGH1uLSCJv_"
      },
      "source": [
        "# Machine Learning Workflow"
      ]
    }
  ]
}